{
  "nbformat": 4,
  "nbformat_minor": 0,
  "metadata": {
    "colab": {
      "provenance": []
    },
    "kernelspec": {
      "name": "python3",
      "display_name": "Python 3"
    },
    "language_info": {
      "name": "python"
    }
  },
  "cells": [
    {
      "cell_type": "markdown",
      "source": [
        "# GTC ML Project 1 - Data Cleaning & Preprocessing Challenge\n",
        "\n",
        "**Objective:** Build a robust data preprocessing pipeline for a hotel booking cancellation prediction model.\n",
        "Business Problem: The revenue team has identified that last-minute booking cancellations significantly\n",
        "impact profitability. Your task is not to build the final model, but to prepare the raw data for it. The quality\n",
        "of your data cleaning will directly determine the model's future success.\n",
        "\n",
        "## Phase 1 - Exploratory Data Analysis (EDA) & Data Quality Report\n",
        "\n",
        "The following section covers the first phases of the project:\n",
        "1. Dataset overview\n",
        "2. Missing values analysis\n",
        "3. Outlier detection\n",
        "4. Documentation of main data quality issues\n",
        "\n"
      ],
      "metadata": {
        "id": "-aVQi6C5hCgp"
      }
    },
    {
      "cell_type": "code",
      "execution_count": null,
      "metadata": {
        "id": "FXNu9wmn9nVf"
      },
      "outputs": [],
      "source": [
        "import pandas as pd\n",
        "import numpy as np\n",
        "import matplotlib.pyplot as plt\n",
        "import seaborn as sns\n",
        "import missingno as msno"
      ]
    },
    {
      "cell_type": "code",
      "source": [
        "from google.colab import files\n",
        "uploaded = files.upload()"
      ],
      "metadata": {
        "id": "X4TOkIdz_Ay2"
      },
      "execution_count": null,
      "outputs": []
    },
    {
      "cell_type": "code",
      "source": [
        "df = pd.read_csv('hotel_bookings.csv')"
      ],
      "metadata": {
        "id": "eOhkfFSrA8zK"
      },
      "execution_count": null,
      "outputs": []
    },
    {
      "cell_type": "markdown",
      "source": [
        "## Dataset Overview"
      ],
      "metadata": {
        "id": "mPespd-LndJJ"
      }
    },
    {
      "cell_type": "code",
      "source": [
        "df.columns"
      ],
      "metadata": {
        "id": "3LPdvGvFgezF",
        "collapsed": true
      },
      "execution_count": null,
      "outputs": []
    },
    {
      "cell_type": "code",
      "source": [
        "df.info()"
      ],
      "metadata": {
        "id": "BHsAaFpaBZ1I",
        "collapsed": true
      },
      "execution_count": null,
      "outputs": []
    },
    {
      "cell_type": "code",
      "source": [
        "df.describe()"
      ],
      "metadata": {
        "id": "kOcxSe0OBkfw",
        "collapsed": true
      },
      "execution_count": null,
      "outputs": []
    },
    {
      "cell_type": "markdown",
      "source": [
        "- the data has 119390 rows and 32 columns.\n",
        "- 12 categorical columns, the rest numerical.\n",
        "- data quality issue: date columns are split into year/month/day in columns (arrival_date_year, arrival_date_month, arrival_date_day_of_month).\n",
        "- redundunt columns: arrival_date_week_number."
      ],
      "metadata": {
        "id": "g9I4l7PTzd27"
      }
    },
    {
      "cell_type": "code",
      "source": [
        "msno.matrix(df)"
      ],
      "metadata": {
        "id": "zK_76TQxiRrW"
      },
      "execution_count": null,
      "outputs": []
    },
    {
      "cell_type": "code",
      "source": [
        "msno.heatmap(df)"
      ],
      "metadata": {
        "id": "p94KV01FibNd"
      },
      "execution_count": null,
      "outputs": []
    },
    {
      "cell_type": "markdown",
      "source": [
        "## Dataset Overview\n",
        "* The dataset has total of 32 columns and 119390 ranging from 0 to 119389. There are 12 out of the 32 columns that are categoriy columns, the rest are numerical columns.\n",
        "* from the 32 columns we have agent and company that has a lot of missing values and can be problemsitic in the future, also we have arrival_date_year, arrival_date_month ,and arrival_date_day_of_month columns that can be merged together, and finally we can delete arrival_date_week_number since it will not be nessesary in our data."
      ],
      "metadata": {
        "id": "yjDZVzvlCA84"
      }
    }
  ]
}